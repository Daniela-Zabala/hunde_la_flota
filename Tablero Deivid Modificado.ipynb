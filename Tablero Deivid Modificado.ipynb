{
 "cells": [
  {
   "cell_type": "code",
   "execution_count": 2,
   "id": "30d4ab15-0b84-49a6-b50d-464e69d3400e",
   "metadata": {},
   "outputs": [
    {
     "name": "stdout",
     "output_type": "stream",
     "text": [
      "Colocando barco de tamaño 1\n"
     ]
    },
    {
     "name": "stdin",
     "output_type": "stream",
     "text": [
      "Ingresa la coordenada de inicio (ej. A1):  A1\n",
      "Ingresa la dirección (H para horizontal, V para vertical):  V\n"
     ]
    },
    {
     "name": "stdout",
     "output_type": "stream",
     "text": [
      "   1   2   3   4   5   6   7   8   9   10 \n",
      "A  O   ·   ·   ·   ·   ·   ·   ·   ·   ·  \n",
      "B  ·   ·   ·   ·   ·   ·   ·   ·   ·   ·  \n",
      "C  ·   ·   ·   ·   ·   ·   ·   ·   ·   ·  \n",
      "D  ·   ·   ·   ·   ·   ·   ·   ·   ·   ·  \n",
      "E  ·   ·   ·   ·   ·   ·   ·   ·   ·   ·  \n",
      "F  ·   ·   ·   ·   ·   ·   ·   ·   ·   ·  \n",
      "G  ·   ·   ·   ·   ·   ·   ·   ·   ·   ·  \n",
      "H  ·   ·   ·   ·   ·   ·   ·   ·   ·   ·  \n",
      "I  ·   ·   ·   ·   ·   ·   ·   ·   ·   ·  \n",
      "J  ·   ·   ·   ·   ·   ·   ·   ·   ·   ·  \n",
      "Colocando barco de tamaño 1\n"
     ]
    },
    {
     "name": "stdin",
     "output_type": "stream",
     "text": [
      "Ingresa la coordenada de inicio (ej. A1):  H2\n",
      "Ingresa la dirección (H para horizontal, V para vertical):  V\n"
     ]
    },
    {
     "name": "stdout",
     "output_type": "stream",
     "text": [
      "   1   2   3   4   5   6   7   8   9   10 \n",
      "A  O   ·   ·   ·   ·   ·   ·   ·   ·   ·  \n",
      "B  ·   ·   ·   ·   ·   ·   ·   ·   ·   ·  \n",
      "C  ·   ·   ·   ·   ·   ·   ·   ·   ·   ·  \n",
      "D  ·   ·   ·   ·   ·   ·   ·   ·   ·   ·  \n",
      "E  ·   ·   ·   ·   ·   ·   ·   ·   ·   ·  \n",
      "F  ·   ·   ·   ·   ·   ·   ·   ·   ·   ·  \n",
      "G  ·   ·   ·   ·   ·   ·   ·   ·   ·   ·  \n",
      "H  ·   O   ·   ·   ·   ·   ·   ·   ·   ·  \n",
      "I  ·   ·   ·   ·   ·   ·   ·   ·   ·   ·  \n",
      "J  ·   ·   ·   ·   ·   ·   ·   ·   ·   ·  \n",
      "Colocando barco de tamaño 1\n"
     ]
    },
    {
     "name": "stdin",
     "output_type": "stream",
     "text": [
      "Ingresa la coordenada de inicio (ej. A1):  J3\n",
      "Ingresa la dirección (H para horizontal, V para vertical):  V\n"
     ]
    },
    {
     "name": "stdout",
     "output_type": "stream",
     "text": [
      "   1   2   3   4   5   6   7   8   9   10 \n",
      "A  O   ·   ·   ·   ·   ·   ·   ·   ·   ·  \n",
      "B  ·   ·   ·   ·   ·   ·   ·   ·   ·   ·  \n",
      "C  ·   ·   ·   ·   ·   ·   ·   ·   ·   ·  \n",
      "D  ·   ·   ·   ·   ·   ·   ·   ·   ·   ·  \n",
      "E  ·   ·   ·   ·   ·   ·   ·   ·   ·   ·  \n",
      "F  ·   ·   ·   ·   ·   ·   ·   ·   ·   ·  \n",
      "G  ·   ·   ·   ·   ·   ·   ·   ·   ·   ·  \n",
      "H  ·   O   ·   ·   ·   ·   ·   ·   ·   ·  \n",
      "I  ·   ·   ·   ·   ·   ·   ·   ·   ·   ·  \n",
      "J  ·   ·   O   ·   ·   ·   ·   ·   ·   ·  \n",
      "Colocando barco de tamaño 1\n"
     ]
    },
    {
     "name": "stdin",
     "output_type": "stream",
     "text": [
      "Ingresa la coordenada de inicio (ej. A1):  C4\n",
      "Ingresa la dirección (H para horizontal, V para vertical):  V\n"
     ]
    },
    {
     "name": "stdout",
     "output_type": "stream",
     "text": [
      "   1   2   3   4   5   6   7   8   9   10 \n",
      "A  O   ·   ·   ·   ·   ·   ·   ·   ·   ·  \n",
      "B  ·   ·   ·   ·   ·   ·   ·   ·   ·   ·  \n",
      "C  ·   ·   ·   O   ·   ·   ·   ·   ·   ·  \n",
      "D  ·   ·   ·   ·   ·   ·   ·   ·   ·   ·  \n",
      "E  ·   ·   ·   ·   ·   ·   ·   ·   ·   ·  \n",
      "F  ·   ·   ·   ·   ·   ·   ·   ·   ·   ·  \n",
      "G  ·   ·   ·   ·   ·   ·   ·   ·   ·   ·  \n",
      "H  ·   O   ·   ·   ·   ·   ·   ·   ·   ·  \n",
      "I  ·   ·   ·   ·   ·   ·   ·   ·   ·   ·  \n",
      "J  ·   ·   O   ·   ·   ·   ·   ·   ·   ·  \n",
      "Colocando barco de tamaño 2\n"
     ]
    },
    {
     "name": "stdin",
     "output_type": "stream",
     "text": [
      "Ingresa la coordenada de inicio (ej. A1):  F5\n",
      "Ingresa la dirección (H para horizontal, V para vertical):  H\n"
     ]
    },
    {
     "name": "stdout",
     "output_type": "stream",
     "text": [
      "   1   2   3   4   5   6   7   8   9   10 \n",
      "A  O   ·   ·   ·   ·   ·   ·   ·   ·   ·  \n",
      "B  ·   ·   ·   ·   ·   ·   ·   ·   ·   ·  \n",
      "C  ·   ·   ·   O   ·   ·   ·   ·   ·   ·  \n",
      "D  ·   ·   ·   ·   ·   ·   ·   ·   ·   ·  \n",
      "E  ·   ·   ·   ·   ·   ·   ·   ·   ·   ·  \n",
      "F  ·   ·   ·   ·   O   O   ·   ·   ·   ·  \n",
      "G  ·   ·   ·   ·   ·   ·   ·   ·   ·   ·  \n",
      "H  ·   O   ·   ·   ·   ·   ·   ·   ·   ·  \n",
      "I  ·   ·   ·   ·   ·   ·   ·   ·   ·   ·  \n",
      "J  ·   ·   O   ·   ·   ·   ·   ·   ·   ·  \n",
      "Colocando barco de tamaño 2\n"
     ]
    },
    {
     "name": "stdin",
     "output_type": "stream",
     "text": [
      "Ingresa la coordenada de inicio (ej. A1):  E5\n",
      "Ingresa la dirección (H para horizontal, V para vertical):  H\n"
     ]
    },
    {
     "name": "stdout",
     "output_type": "stream",
     "text": [
      "   1   2   3   4   5   6   7   8   9   10 \n",
      "A  O   ·   ·   ·   ·   ·   ·   ·   ·   ·  \n",
      "B  ·   ·   ·   ·   ·   ·   ·   ·   ·   ·  \n",
      "C  ·   ·   ·   O   ·   ·   ·   ·   ·   ·  \n",
      "D  ·   ·   ·   ·   ·   ·   ·   ·   ·   ·  \n",
      "E  ·   ·   ·   ·   O   O   ·   ·   ·   ·  \n",
      "F  ·   ·   ·   ·   O   O   ·   ·   ·   ·  \n",
      "G  ·   ·   ·   ·   ·   ·   ·   ·   ·   ·  \n",
      "H  ·   O   ·   ·   ·   ·   ·   ·   ·   ·  \n",
      "I  ·   ·   ·   ·   ·   ·   ·   ·   ·   ·  \n",
      "J  ·   ·   O   ·   ·   ·   ·   ·   ·   ·  \n",
      "Colocando barco de tamaño 2\n"
     ]
    },
    {
     "name": "stdin",
     "output_type": "stream",
     "text": [
      "Ingresa la coordenada de inicio (ej. A1):  D5\n",
      "Ingresa la dirección (H para horizontal, V para vertical):  H\n"
     ]
    },
    {
     "name": "stdout",
     "output_type": "stream",
     "text": [
      "   1   2   3   4   5   6   7   8   9   10 \n",
      "A  O   ·   ·   ·   ·   ·   ·   ·   ·   ·  \n",
      "B  ·   ·   ·   ·   ·   ·   ·   ·   ·   ·  \n",
      "C  ·   ·   ·   O   ·   ·   ·   ·   ·   ·  \n",
      "D  ·   ·   ·   ·   O   O   ·   ·   ·   ·  \n",
      "E  ·   ·   ·   ·   O   O   ·   ·   ·   ·  \n",
      "F  ·   ·   ·   ·   O   O   ·   ·   ·   ·  \n",
      "G  ·   ·   ·   ·   ·   ·   ·   ·   ·   ·  \n",
      "H  ·   O   ·   ·   ·   ·   ·   ·   ·   ·  \n",
      "I  ·   ·   ·   ·   ·   ·   ·   ·   ·   ·  \n",
      "J  ·   ·   O   ·   ·   ·   ·   ·   ·   ·  \n",
      "Colocando barco de tamaño 3\n"
     ]
    },
    {
     "name": "stdin",
     "output_type": "stream",
     "text": [
      "Ingresa la coordenada de inicio (ej. A1):  B6\n",
      "Ingresa la dirección (H para horizontal, V para vertical):  V\n"
     ]
    },
    {
     "name": "stdout",
     "output_type": "stream",
     "text": [
      "Posición no válida (fuera del tablero o superposición). Intenta de nuevo.\n"
     ]
    },
    {
     "name": "stdin",
     "output_type": "stream",
     "text": [
      "Ingresa la coordenada de inicio (ej. A1):  E5\n",
      "Ingresa la dirección (H para horizontal, V para vertical):  V\n"
     ]
    },
    {
     "name": "stdout",
     "output_type": "stream",
     "text": [
      "Posición no válida (fuera del tablero o superposición). Intenta de nuevo.\n"
     ]
    },
    {
     "name": "stdin",
     "output_type": "stream",
     "text": [
      "Ingresa la coordenada de inicio (ej. A1):  B4\n",
      "Ingresa la dirección (H para horizontal, V para vertical):  H\n"
     ]
    },
    {
     "name": "stdout",
     "output_type": "stream",
     "text": [
      "   1   2   3   4   5   6   7   8   9   10 \n",
      "A  O   ·   ·   ·   ·   ·   ·   ·   ·   ·  \n",
      "B  ·   ·   ·   O   O   O   ·   ·   ·   ·  \n",
      "C  ·   ·   ·   O   ·   ·   ·   ·   ·   ·  \n",
      "D  ·   ·   ·   ·   O   O   ·   ·   ·   ·  \n",
      "E  ·   ·   ·   ·   O   O   ·   ·   ·   ·  \n",
      "F  ·   ·   ·   ·   O   O   ·   ·   ·   ·  \n",
      "G  ·   ·   ·   ·   ·   ·   ·   ·   ·   ·  \n",
      "H  ·   O   ·   ·   ·   ·   ·   ·   ·   ·  \n",
      "I  ·   ·   ·   ·   ·   ·   ·   ·   ·   ·  \n",
      "J  ·   ·   O   ·   ·   ·   ·   ·   ·   ·  \n",
      "Colocando barco de tamaño 3\n"
     ]
    },
    {
     "name": "stdin",
     "output_type": "stream",
     "text": [
      "Ingresa la coordenada de inicio (ej. A1):  G3\n",
      "Ingresa la dirección (H para horizontal, V para vertical):  H\n"
     ]
    },
    {
     "name": "stdout",
     "output_type": "stream",
     "text": [
      "   1   2   3   4   5   6   7   8   9   10 \n",
      "A  O   ·   ·   ·   ·   ·   ·   ·   ·   ·  \n",
      "B  ·   ·   ·   O   O   O   ·   ·   ·   ·  \n",
      "C  ·   ·   ·   O   ·   ·   ·   ·   ·   ·  \n",
      "D  ·   ·   ·   ·   O   O   ·   ·   ·   ·  \n",
      "E  ·   ·   ·   ·   O   O   ·   ·   ·   ·  \n",
      "F  ·   ·   ·   ·   O   O   ·   ·   ·   ·  \n",
      "G  ·   ·   O   O   O   ·   ·   ·   ·   ·  \n",
      "H  ·   O   ·   ·   ·   ·   ·   ·   ·   ·  \n",
      "I  ·   ·   ·   ·   ·   ·   ·   ·   ·   ·  \n",
      "J  ·   ·   O   ·   ·   ·   ·   ·   ·   ·  \n",
      "Colocando barco de tamaño 4\n"
     ]
    },
    {
     "name": "stdin",
     "output_type": "stream",
     "text": [
      "Ingresa la coordenada de inicio (ej. A1):  I4\n",
      "Ingresa la dirección (H para horizontal, V para vertical):  H\n"
     ]
    },
    {
     "name": "stdout",
     "output_type": "stream",
     "text": [
      "   1   2   3   4   5   6   7   8   9   10 \n",
      "A  O   ·   ·   ·   ·   ·   ·   ·   ·   ·  \n",
      "B  ·   ·   ·   O   O   O   ·   ·   ·   ·  \n",
      "C  ·   ·   ·   O   ·   ·   ·   ·   ·   ·  \n",
      "D  ·   ·   ·   ·   O   O   ·   ·   ·   ·  \n",
      "E  ·   ·   ·   ·   O   O   ·   ·   ·   ·  \n",
      "F  ·   ·   ·   ·   O   O   ·   ·   ·   ·  \n",
      "G  ·   ·   O   O   O   ·   ·   ·   ·   ·  \n",
      "H  ·   O   ·   ·   ·   ·   ·   ·   ·   ·  \n",
      "I  ·   ·   ·   O   O   O   O   ·   ·   ·  \n",
      "J  ·   ·   O   ·   ·   ·   ·   ·   ·   ·  \n",
      "\n",
      "Tablero de la CPU:\n",
      "   1   2   3   4   5   6   7   8   9   10 \n",
      "A  ·   ·   ·   ·   ·   ·   O   O   O   ·  \n",
      "B  O   O   O   O   ·   ·   O   ·   ·   O  \n",
      "C  ·   ·   ·   ·   ·   ·   O   ·   ·   ·  \n",
      "D  ·   ·   O   ·   ·   ·   ·   ·   ·   ·  \n",
      "E  ·   ·   O   ·   ·   O   ·   ·   ·   ·  \n",
      "F  ·   ·   ·   ·   O   O   O   ·   ·   ·  \n",
      "G  ·   ·   O   ·   ·   ·   ·   ·   ·   ·  \n",
      "H  ·   ·   O   ·   ·   ·   ·   ·   ·   O  \n",
      "I  ·   ·   ·   ·   ·   ·   ·   ·   ·   O  \n",
      "J  ·   ·   ·   ·   ·   ·   ·   ·   ·   ·  \n"
     ]
    }
   ],
   "source": [
    "import numpy as np\n",
    "import random\n",
    "\n",
    "class Tablero:\n",
    "    def __init__(self, tipo='jugador', ndim=10):\n",
    "        self.tablero = np.full((ndim, ndim), ' · ') \n",
    "        self.disparos = 0\n",
    "        self.tipo = tipo\n",
    "        self.barcos = []\n",
    "\n",
    "    def mostrar_tablero(self):\n",
    "        ndim = len(self.tablero)\n",
    "        letras = ['A', 'B', 'C', 'D', 'E', 'F', 'G', 'H', 'I', 'J']\n",
    "        print(end=' ')\n",
    "        [print(\" \", n, end=' ') for n in range(1, ndim + 1)]\n",
    "        print()\n",
    "        for fila, letra in zip(self.tablero, letras):\n",
    "            print(letra, end=' ')\n",
    "            for posicion in fila:\n",
    "                print(posicion, end=' ')\n",
    "            print()\n",
    "\n",
    "    def colocar_barco(self, tamaño):\n",
    "        if self.tipo == 'jugador':\n",
    "            print(f\"Colocando barco de tamaño {tamaño}\")\n",
    "            while True:\n",
    "                try:\n",
    "                    inicio = input(\"Ingresa la coordenada de inicio (ej. A1): \").upper()\n",
    "                    fila = ord(inicio[0]) - ord('A')\n",
    "                    columna = int(inicio[1:]) - 1\n",
    "\n",
    "                    if fila < 0 or fila >= len(self.tablero) or columna < 0 or columna >= len(self.tablero):\n",
    "                        print(\"Coordenada fuera del tablero. Intenta de nuevo.\")\n",
    "                        continue\n",
    "\n",
    "                    direccion = input(\"Ingresa la dirección (H para horizontal, V para vertical): \").upper()\n",
    "                    if direccion not in ['H', 'V']:\n",
    "                        print(\"Dirección no válida. Intenta de nuevo.\")\n",
    "                        continue\n",
    "\n",
    "                    if not self._posicion_valida(fila, columna, direccion, tamaño):\n",
    "                        print(\"Posición no válida (fuera del tablero o superposición). Intenta de nuevo.\")\n",
    "                        continue\n",
    "\n",
    "                    self._colocar_barco_en_tablero(fila, columna, direccion, tamaño)\n",
    "                    break\n",
    "\n",
    "                except (ValueError, IndexError):\n",
    "                    print(\"Coordenada no válida. Intenta de nuevo.\")\n",
    "        else: \n",
    "            self._colocar_barco_cpu(tamaño)\n",
    "\n",
    "    def _posicion_valida(self, fila, columna, direccion, tamaño):\n",
    "        \"\"\"Verifica si la posición es válida (sin salirse del tablero ni superponerse).\"\"\"\n",
    "        if direccion == 'H':\n",
    "            if columna + tamaño > len(self.tablero):\n",
    "                return False\n",
    "            return all(self.tablero[fila][columna + i] == ' · ' for i in range(tamaño))\n",
    "        else:  \n",
    "            if fila + tamaño > len(self.tablero):\n",
    "                return False\n",
    "            return all(self.tablero[fila + i][columna] == ' · ' for i in range(tamaño))\n",
    "\n",
    "    def _colocar_barco_en_tablero(self, fila, columna, direccion, tamaño):\n",
    "        if direccion == 'H':\n",
    "            for i in range(tamaño):\n",
    "                self.tablero[fila][columna + i] = ' O '\n",
    "        else: \n",
    "            for i in range(tamaño):\n",
    "                self.tablero[fila + i][columna] = ' O '\n",
    "        self.barcos.append((fila, columna, direccion, tamaño))\n",
    "\n",
    "    def _colocar_barco_cpu(self, tamaño):\n",
    "        while True:\n",
    "            fila = random.randint(0, len(self.tablero) - 1)\n",
    "            columna = random.randint(0, len(self.tablero) - 1)\n",
    "            direccion = random.choice(['H', 'V'])\n",
    "\n",
    "            if self._posicion_valida(fila, columna, direccion, tamaño):\n",
    "                self._colocar_barco_en_tablero(fila, columna, direccion, tamaño)\n",
    "                break\n",
    "\n",
    "if __name__ == \"__main__\":\n",
    "    tablero_jugador = Tablero('jugador')\n",
    "    for tamaño in [1, 1, 1, 1, 2, 2, 2, 3, 3, 4]:\n",
    "        tablero_jugador.colocar_barco(tamaño)\n",
    "        tablero_jugador.mostrar_tablero()\n",
    "\n",
    "    tablero_cpu = Tablero('cpu')\n",
    "    for tamaño in [1, 1, 1, 1, 2, 2, 2, 3, 3, 4]:\n",
    "        tablero_cpu.colocar_barco(tamaño)\n",
    "    print(\"\\nTablero de la CPU:\")\n",
    "    tablero_cpu.mostrar_tablero()"
   ]
  }
 ],
 "metadata": {
  "kernelspec": {
   "display_name": "Python 3 (ipykernel)",
   "language": "python",
   "name": "python3"
  },
  "language_info": {
   "codemirror_mode": {
    "name": "ipython",
    "version": 3
   },
   "file_extension": ".py",
   "mimetype": "text/x-python",
   "name": "python",
   "nbconvert_exporter": "python",
   "pygments_lexer": "ipython3",
   "version": "3.12.1"
  }
 },
 "nbformat": 4,
 "nbformat_minor": 5
}
