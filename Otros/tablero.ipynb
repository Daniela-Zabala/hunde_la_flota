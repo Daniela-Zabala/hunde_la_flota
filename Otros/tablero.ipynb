{
 "cells": [
  {
   "cell_type": "code",
   "execution_count": 1,
   "metadata": {},
   "outputs": [],
   "source": [
    "import numpy as np\n",
    "import os\n",
    "\n",
    "# Variables globales:\n",
    "\n",
    "letras = ['A','B','D','E','F','G','H','I','J','K','L','M','N','Ñ','O','P','Q','R','S','T','U','V','W','X','Y','Z']\n",
    "estilo_tablero = {'punto':' · ', 'agua':' = ', 'barco':' O ','tocado':' X '}"
   ]
  },
  {
   "cell_type": "code",
   "execution_count": 2,
   "metadata": {},
   "outputs": [],
   "source": [
    "class Jugador:\n",
    "    def __init__(self, name, ndim = 10, tipo = 'jugador'):\n",
    "        self.name = name\n",
    "        self.tipo = tipo\n",
    "        self.disparos = []\n",
    "\n",
    "        tablero = np.full((2,ndim,ndim),estilo_tablero['punto'])\n",
    "        self.flota, self.radar = tablero[0], tablero[1]\n",
    "        self.ndim = ndim\n",
    "        self.letras = letras[:ndim]\n",
    "\n",
    "    def mostrar_tablero(self):\n",
    "        ndim = len(self.flota)\n",
    "        print()\n",
    "        for fila in range(ndim):\n",
    "            if fila == 0:\n",
    "                print(end = '  ')\n",
    "                for n in range(2):\n",
    "                    [print(' ', n, end = ' ') for n in range(1,self.ndim + 1)]\n",
    "                    print('\\t', end = '  ')\n",
    "            print('\\n',letras[fila], end = ' ')\n",
    "            [print(posicion, end = ' ') for posicion in self.flota[fila]]\n",
    "            print('\\t', letras[fila], end = ' ')\n",
    "            [print(posicion, end = ' ') for posicion in self.radar[fila]]\n",
    "        print()\n",
    "\n",
    "    def check_barcos(self):\n",
    "        if np.any(self.flota == estilo_tablero['barco']):\n",
    "            return True\n",
    "        else:\n",
    "            return False\n",
    "    \n",
    "    def activar_radar(self, flota_enemigo):\n",
    "        self.radar = np.where(flota_enemigo == estilo_tablero['barco'], estilo_tablero['punto'], flota_enemigo)\n",
    "        return self.radar"
   ]
  },
  {
   "cell_type": "markdown",
   "metadata": {},
   "source": [
    "**Funciones de disparo y limpieza de pantalla**"
   ]
  },
  {
   "cell_type": "code",
   "execution_count": 26,
   "metadata": {},
   "outputs": [],
   "source": [
    "def recibir_disparo(tablero, coordenada):\n",
    "    if tablero[coordenada] == estilo_tablero['barco']:\n",
    "        tablero[coordenada] = estilo_tablero['tocado']\n",
    "        return True\n",
    "    elif tablero[coordenada] == estilo_tablero['tocado']:\n",
    "        print(\"Ya has disparado aquí\")\n",
    "        return False\n",
    "    else:\n",
    "        tablero[coordenada] = estilo_tablero['agua']\n",
    "        print(\"Agua\")\n",
    "        return False\n",
    "\n",
    "def disparo_coordenadas(tablero, coordenada):    \n",
    "    fila, columna = coordenada[0], coordenada[1:]\n",
    "    if len(coordenada) > 3:\n",
    "        return False\n",
    "    elif columna.isnumeric() != True:\n",
    "        return False\n",
    "    elif fila.upper() not in tablero.letras or int(columna) > tablero.ndim:\n",
    "        return False\n",
    "    fila = letras.index(fila.upper())\n",
    "    columna = int(columna)-1\n",
    "    return (fila,columna)\n",
    "\n",
    "def disparo_random(tablero):\n",
    "    coordenada = (np.random.randint(0,len(tablero)-1),np.random.randint(0,len(tablero)-1))\n",
    "    while tablero[coordenada] == 'X' or tablero[coordenada] == '~':\n",
    "        coordenada = (np.random.randint(0,len(tablero)-1),np.random.randint(0,len(tablero)-1))\n",
    "    recibir_disparo(tablero,coordenada)\n",
    "\n",
    "def clear(): # Limpiar pantalla\n",
    "    if os.name == \"posix\":\n",
    "        os.system (\"clear\")\n",
    "    elif os.name == (\"ce\", \"nt\", \"dos\"):\n",
    "        os.system (\"cls\")"
   ]
  },
  {
   "cell_type": "markdown",
   "metadata": {},
   "source": [
    "**Función de turnos de batalla**"
   ]
  },
  {
   "cell_type": "code",
   "execution_count": 23,
   "metadata": {},
   "outputs": [],
   "source": [
    "def turno_batalla():\n",
    "    duo = [jugador,cpu]\n",
    "\n",
    "    while True:\n",
    "        atacante, enemigo = duo[0], duo[1]\n",
    "\n",
    "        if atacante.name == 'vision':\n",
    "            print(f'Tablero {cpu.name}')\n",
    "            enemigo.activar_radar(jugador.flota)\n",
    "            enemigo.mostrar_tablero()\n",
    "\n",
    "        if atacante.tipo == 'jugador':\n",
    "            print(f'Turno {atacante.name} \\t\\t CAÑONAZOS: {atacante.disparos.count(True)}/{len(atacante.disparos)}')\n",
    "            jugador.activar_radar(cpu.flota)\n",
    "            jugador.mostrar_tablero()\n",
    "            \n",
    "            coordenada = input('Introduce coordenada de disparo: ')\n",
    "            disparo = disparo_coordenadas(enemigo, coordenada)\n",
    "            if coordenada == 'salir':\n",
    "                break\n",
    "            while disparo == False:\n",
    "                coordenada = input('Coordenadas incorrectas. Vuelve a intentarlo: ')\n",
    "                disparo = disparo_coordenadas(enemigo, coordenada)\n",
    "            acierto = recibir_disparo(enemigo.flota, disparo)\n",
    "            atacante.disparos.append(acierto)\n",
    "        else:\n",
    "            print(f'Turno {atacante.name} \\t\\t CAÑONAZOS: {atacante.disparos.count(True)}/{len(atacante.disparos)}')\n",
    "            acierto = disparo_random(enemigo.flota) \n",
    "            atacante.disparos.append(acierto)\n",
    "        \n",
    "        if acierto == True:\n",
    "            if enemigo.check_barcos() != True:\n",
    "                print('Ganaste')\n",
    "                break\n",
    "        else:\n",
    "            duo.reverse()\n",
    "            continue\n",
    "    \n",
    "        clear()    # Limpiamos la pantalla (no funciona en notebooks)\n",
    "    \n",
    "    print('Salida -> Función de menú')\n",
    "    #quit()"
   ]
  },
  {
   "cell_type": "markdown",
   "metadata": {},
   "source": [
    "**Prueba:**"
   ]
  },
  {
   "cell_type": "code",
   "execution_count": 25,
   "metadata": {},
   "outputs": [
    {
     "name": "stdout",
     "output_type": "stream",
     "text": [
      "Turno Victor \t\t CAÑONAZOS: 0/0\n",
      "\n",
      "    1   2   3   4   5   6   7   8   9   10 \t    1   2   3   4   5   6   7   8   9   10 \t  \n",
      " A  ·   ·   ·   ·   ·   ·   ·   ·   ·   ·  \t A  ·   ·   ·   ·   ·   ·   ·   ·   ·   ·  \n",
      " B  ·   ·   ·   ·   O   ·   ·   ·   ·   ·  \t B  ·   ·   ·   ·   ·   ·   ·   ·   ·   ·  \n",
      " D  ·   ·   ·   ·   O   ·   ·   ·   ·   ·  \t D  ·   ·   ·   ·   ·   ·   ·   ·   ·   ·  \n",
      " E  ·   ·   ·   ·   O   ·   ·   ·   ·   ·  \t E  ·   ·   ·   ·   ·   ·   ·   ·   ·   ·  \n",
      " F  ·   ·   ·   ·   ·   ·   ·   ·   ·   ·  \t F  ·   ·   ·   ·   ·   ·   ·   ·   ·   ·  \n",
      " G  ·   ·   ·   ·   ·   ·   O   O   O   ·  \t G  ·   ·   ·   ·   ·   ·   ·   ·   ·   ·  \n",
      " H  ·   ·   ·   ·   ·   ·   ·   ·   ·   ·  \t H  ·   ·   ·   ·   ·   ·   ·   ·   ·   ·  \n",
      " I  ·   ·   ·   ·   ·   ·   ·   ·   ·   ·  \t I  ·   ·   ·   ·   ·   ·   ·   ·   ·   ·  \n",
      " J  ·   ·   ·   ·   ·   ·   ·   ·   ·   ·  \t J  ·   ·   ·   ·   ·   ·   ·   ·   ·   ·  \n",
      " K  ·   ·   ·   ·   ·   ·   ·   ·   ·   ·  \t K  ·   ·   ·   ·   ·   ·   ·   ·   ·   ·  \n",
      "f f\n",
      "s alir\n",
      "a 4\n",
      "Agua\n",
      "Turno cpu \t\t CAÑONAZOS: 0/0\n",
      "Turno Victor \t\t CAÑONAZOS: 0/1\n",
      "\n",
      "    1   2   3   4   5   6   7   8   9   10 \t    1   2   3   4   5   6   7   8   9   10 \t  \n",
      " A  ·   ·   ·   ·   ·   ·   ·   ·   ·   ·  \t A  ·   ·   ·   =   ·   ·   ·   ·   ·   ·  \n",
      " B  ·   ·   ·   ·   O   ·   ·   ·   ·   ·  \t B  ·   ·   ·   ·   ·   ·   ·   ·   ·   ·  \n",
      " D  ·   ·   ·   ·   O   ·   ·   ·   ·   ·  \t D  ·   ·   ·   ·   ·   ·   ·   ·   ·   ·  \n",
      " E  ·   ·   ·   ·   O   ·   ·   ·   ·   ·  \t E  ·   ·   ·   ·   ·   ·   ·   ·   ·   ·  \n",
      " F  ·   ·   ·   ·   ·   ·   ·   ·   ·   ·  \t F  ·   ·   ·   ·   ·   ·   ·   ·   ·   ·  \n",
      " G  ·   ·   ·   ·   ·   ·   O   X   O   ·  \t G  ·   ·   ·   ·   ·   ·   ·   ·   ·   ·  \n",
      " H  ·   ·   ·   ·   ·   ·   ·   ·   ·   ·  \t H  ·   ·   ·   ·   ·   ·   ·   ·   ·   ·  \n",
      " I  ·   ·   ·   ·   ·   ·   ·   ·   ·   ·  \t I  ·   ·   ·   ·   ·   ·   ·   ·   ·   ·  \n",
      " J  ·   ·   ·   ·   ·   ·   ·   ·   ·   ·  \t J  ·   ·   ·   ·   ·   ·   ·   ·   ·   ·  \n",
      " K  ·   ·   ·   ·   ·   ·   ·   ·   ·   ·  \t K  ·   ·   ·   ·   ·   ·   ·   ·   ·   ·  \n",
      "s alir\n",
      "Salida -> Función de menú\n"
     ]
    }
   ],
   "source": [
    "jugador = Jugador('Victor')\n",
    "cpu = Jugador('cpu', tipo = 'cpu')\n",
    "\n",
    "barcos = [(1,4),(2,4),(3,4),(5,6),(5,7),(5,8)]\n",
    "disparos = [(1,0), (1,1), (7,4), (7,5), (7,6), (7,7)]\n",
    "for disparo,barco in zip(disparos,barcos):\n",
    "    jugador.flota[barco] = estilo_tablero['barco']\n",
    "    cpu.flota[disparo] = estilo_tablero['barco']\n",
    "\n",
    "turno_batalla()"
   ]
  }
 ],
 "metadata": {
  "kernelspec": {
   "display_name": "Python 3",
   "language": "python",
   "name": "python3"
  },
  "language_info": {
   "codemirror_mode": {
    "name": "ipython",
    "version": 3
   },
   "file_extension": ".py",
   "mimetype": "text/x-python",
   "name": "python",
   "nbconvert_exporter": "python",
   "pygments_lexer": "ipython3",
   "version": "3.13.2"
  }
 },
 "nbformat": 4,
 "nbformat_minor": 2
}
