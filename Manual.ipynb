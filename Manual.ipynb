{
 "cells": [
  {
   "cell_type": "code",
   "execution_count": 26,
   "metadata": {},
   "outputs": [],
   "source": [
    "def obtener_jugador():\n",
    "    nombre= input(\"Jugador Ingresa tu nombre:\")\n",
    "    "
   ]
  },
  {
   "cell_type": "code",
   "execution_count": 27,
   "metadata": {},
   "outputs": [],
   "source": [
    "def mostrar_instrucciones():\n",
    "    print(   \"\"\" \n",
    "          *** BIENVENIDO A HUNDIR LA FLOTA TEAM 5 ***  \n",
    "    - Cada jugador tiene un tablero de 10x10.\n",
    "    - Los barcos se colocan aleatoriamente en el tablero.\n",
    "    - Los jugadores se turnan para disparar a una coordenada (fila, columna).\n",
    "    - El impacto se marcará en el tablero:\n",
    "        Impacto en barco -> X\n",
    "        Impacto en Agua-> ~\n",
    "        Barco hundido -> O\n",
    "    - El objetivo es hundir todos los barcos del rival.\n",
    "    - ¡Buena suerte!\n",
    "    \"\"\")\n"
   ]
  },
  {
   "cell_type": "code",
   "execution_count": 28,
   "metadata": {},
   "outputs": [
    {
     "name": "stdout",
     "output_type": "stream",
     "text": [
      " \n",
      "          *** BIENVENIDO A HUNDIR LA FLOTA TEAM 5 ***  \n",
      "    - Cada jugador tiene un tablero de 10x10.\n",
      "    - Los barcos se colocan aleatoriamente en el tablero.\n",
      "    - Los jugadores se turnan para disparar a una coordenada (fila, columna).\n",
      "    - El impacto se marcará en el tablero:\n",
      "        Impacto en barco -> X\n",
      "        Impacto en Agua-> ~\n",
      "        Barco hundido -> O\n",
      "    - El objetivo es hundir todos los barcos del rival.\n",
      "    - ¡Buena suerte!\n",
      "    \n"
     ]
    }
   ],
   "source": [
    "obtener_jugador()\n",
    "\n",
    "mostrar_instrucciones()\n"
   ]
  },
  {
   "cell_type": "code",
   "execution_count": null,
   "metadata": {},
   "outputs": [],
   "source": []
  }
 ],
 "metadata": {
  "kernelspec": {
   "display_name": "Python 3",
   "language": "python",
   "name": "python3"
  },
  "language_info": {
   "codemirror_mode": {
    "name": "ipython",
    "version": 3
   },
   "file_extension": ".py",
   "mimetype": "text/x-python",
   "name": "python",
   "nbconvert_exporter": "python",
   "pygments_lexer": "ipython3",
   "version": "3.13.2"
  }
 },
 "nbformat": 4,
 "nbformat_minor": 2
}
