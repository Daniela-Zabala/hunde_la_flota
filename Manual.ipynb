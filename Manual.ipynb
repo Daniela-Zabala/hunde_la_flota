{
 "cells": [
  {
   "cell_type": "code",
   "execution_count": 17,
   "metadata": {},
   "outputs": [
    {
     "name": "stdout",
     "output_type": "stream",
     "text": [
      "\n",
      "Biennvenid@ a Hundir la Flota Team 5\n"
     ]
    }
   ],
   "source": [
    "#titulo del juego\n",
    "introduccion= \"\\nBiennvenid@ a Hundir la Flota Team 5\"\n",
    "print(introduccion)\n",
    "nombre_jugador=input(\"Para empezar a jugar debes decir tu nombre\")\n",
    "\n",
    "# Función para corregir mayúsculas y minúsculas del nombre\n",
    "def corregir_nombre(nombre_jugador):\n",
    "    return nombre_jugador.strip().lower()  # Elimina espacios y convierte a minúsculas\n",
    "\n",
    "#nombre_jugador=input(\"Para empezar a jugar debes decir tu nombre\")\n",
    "\n",
    "\n",
    "    \n",
    "       \n",
    "#Coger el nombre del jugador #Corregimos el nombre como hemos indicado arriba\n",
    "#print(\"Bienvenido\",nombre_jugador.capitalize()) #Imrpimimos con la primera letra en mayuscula\n",
    "\n",
    "# Función para mostrar instrucciones\n",
    "def mostrar_instrucciones():\n",
    "    print(\"\"\" \n",
    "    - Cada jugador tiene un tablero de 10x10.\n",
    "    - Los barcos se colocan aleatoriamente en el tablero.\n",
    "    - Los jugadores se turnan para disparar a una coordenada (fila, columna).\n",
    "    - El impacto se marcará en el tablero:\n",
    "        Impacto en barco -> X\n",
    "        Impacto en Agua -> ~\n",
    "        Barco hundido -> O\n",
    "    - El objetivo es hundir todos los barcos del rival.\n",
    "    - En este Caso el rival será CPU\n",
    "    - ¡Buena suerte!\n",
    "    \"\"\")\n",
    "\n",
    "#FUNCION SALIR\n",
    "def funcion_Salir(nombre_jugador):\n",
    "    \n",
    "    if nombre_jugador.strip().lower() == \"salir\":\n",
    "        print(\"\\n volviendo a {nombre_jugador}\")\n",
    "        return True\n"
   ]
  },
  {
   "cell_type": "code",
   "execution_count": null,
   "metadata": {},
   "outputs": [],
   "source": [
    "#titulo del juego\n",
    "introduccion= \"\\nBiennvenid@ a Hundir la Flota Team 5\"\n",
    "print(introduccion)\n",
    "\n",
    "# Función para corregir mayúsculas y minúsculas del nombre\n",
    "def corregir_nombre(nombre):\n",
    "    return nombre.strip().lower()  # Elimina espacios y convierte a minúsculas\n",
    "\n",
    "#Coger el nombre del jugador\n",
    "nombre_jugador=input(\"Para empezar a jugar debes decir tu nombre\")\n",
    "nombre_jugador = corregir_nombre(nombre_jugador) #Corregimos el nombre como hemos indicado arriba\n",
    "print(\"Bienvenido\",nombre_jugador.capitalize()) #Imrpimimos con la primera letra en mayuscula\n",
    "\n",
    "\n",
    "# Función para mostrar instrucciones\n",
    "def mostrar_instrucciones():\n",
    "    print(\"\"\" \n",
    "    - Cada jugador tiene un tablero de 10x10.\n",
    "    - Los barcos se colocan aleatoriamente en el tablero.\n",
    "    - Los jugadores se turnan para disparar a una coordenada (fila, columna).\n",
    "    - El impacto se marcará en el tablero:\n",
    "        Impacto en barco -> X\n",
    "        Impacto en Agua -> ~\n",
    "        Barco hundido -> O\n",
    "    - El objetivo es hundir todos los barcos del rival.\n",
    "    - En este Caso el rival será CPU\n",
    "    - ¡Buena suerte!\n",
    "    \"\"\")\n",
    "print(f\"{nombre_jugador}, Estas son las reglas del juego:\\n\")\n",
    "mostrar_instrucciones()"
   ]
  },
  {
   "cell_type": "code",
   "execution_count": null,
   "metadata": {},
   "outputs": [],
   "source": []
  }
 ],
 "metadata": {
  "kernelspec": {
   "display_name": "Python 3",
   "language": "python",
   "name": "python3"
  },
  "language_info": {
   "codemirror_mode": {
    "name": "ipython",
    "version": 3
   },
   "file_extension": ".py",
   "mimetype": "text/x-python",
   "name": "python",
   "nbconvert_exporter": "python",
   "pygments_lexer": "ipython3",
   "version": "3.13.2"
  }
 },
 "nbformat": 4,
 "nbformat_minor": 2
}
