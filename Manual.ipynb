{
 "cells": [
  {
   "cell_type": "code",
   "execution_count": 26,
   "metadata": {},
   "outputs": [],
   "source": [
    "def obtener_jugador():\n",
    "    nombre= input(\"Jugador Ingresa tu nombre:\")\n",
    "    "
   ]
  },
  {
   "cell_type": "code",
   "execution_count": 27,
   "metadata": {},
   "outputs": [],
   "source": [
    "def mostrar_instrucciones():\n",
    "    print(   \"\"\" \n",
    "          *** BIENVENIDO A HUNDIR LA FLOTA TEAM 5 ***  \n",
    "    - Cada jugador tiene un tablero de 10x10.\n",
    "    - Los barcos se colocan aleatoriamente en el tablero.\n",
    "    - Los jugadores se turnan para disparar a una coordenada (fila, columna).\n",
    "    - El impacto se marcará en el tablero:\n",
    "        Impacto en barco -> X\n",
    "        Impacto en Agua-> ~\n",
    "        Barco hundido -> O\n",
    "    - El objetivo es hundir todos los barcos del rival.\n",
    "    - ¡Buena suerte!\n",
    "    \"\"\")\n"
   ]
  },
  {
   "cell_type": "code",
   "execution_count": 28,
   "metadata": {},
   "outputs": [
    {
     "name": "stdout",
     "output_type": "stream",
     "text": [
      " \n",
      "          *** BIENVENIDO A HUNDIR LA FLOTA TEAM 5 ***  \n",
      "    - Cada jugador tiene un tablero de 10x10.\n",
      "    - Los barcos se colocan aleatoriamente en el tablero.\n",
      "    - Los jugadores se turnan para disparar a una coordenada (fila, columna).\n",
      "    - El impacto se marcará en el tablero:\n",
      "        Impacto en barco -> X\n",
      "        Impacto en Agua-> ~\n",
      "        Barco hundido -> O\n",
      "    - El objetivo es hundir todos los barcos del rival.\n",
      "    - ¡Buena suerte!\n",
      "    \n"
     ]
    }
   ],
   "source": [
    "obtener_jugador()\n",
    "\n",
    "mostrar_instrucciones()\n"
   ]
  },
  {
   "cell_type": "code",
   "execution_count": null,
   "metadata": {},
   "outputs": [],
   "source": [
    "# intento 1: fallos en la función 'check_opcion' al entrar la variable eleccion como str\n",
    "'''\n",
    "La habitación infinita\n",
    "'''\n",
    "# Variables empleadas\n",
    "puerta = 2\n",
    "amuleto = False\n",
    "\n",
    "# Texto de nuestra historia\n",
    "introduccion = '\\nEstás en medio de una habitación oscura con una única mesa en el centro y dos robustas puertas a cada lado. ¿Qué haces?'\n",
    "eleccion_habitacion = 'Puedes:\\n0. Buscar en la mesa.\\n1. Cruzar la puerta de la derecha.\\n2. Cruzar la puerta de la izquierda.'\n",
    "eleccion_amuleto = 'Hay un amuleto extraño sobre la mesa, ¿quieres cogerlo? (Si o No)'\n",
    "\n",
    "# Creamos una función para asegurar que todas las opciones introducidas por el usuario sean enteror dentro del rango de opciones\n",
    "def check_opcion(eleccion, opciones, texto):\n",
    "    while eleccion.isnumeric() != True or int(eleccion) < 0 or int(eleccion) > (opciones-1):\n",
    "        print(f'\\nLos siento, no te he entendido. Elige una de las {opciones} opciones.')\n",
    "        eleccion = input(texto)\n",
    "    return int(eleccion)\n",
    "\n",
    "# Comienza la historia interminable\n",
    "while puerta == 2:\n",
    "    print(introduccion)\n",
    "    eleccion = input(eleccion_habitacion)\n",
    "    eleccion = check_opcion(eleccion, 3, eleccion_habitacion)\n",
    "\n",
    "    # Opciones para 'Buscar en la mesa'\n",
    "    if eleccion == 0:\n",
    "        if amuleto == False:\n",
    "            eleccion = input(eleccion_amuleto)\n",
    "            if eleccion.lower() == 'si':\n",
    "                amuleto = True\n",
    "                print('Has cogido el amuleto.\\n')\n",
    "        else:\n",
    "            print('No hay nada llamativo.\\n')\n",
    "    # Opción para la puerta de la derecha\n",
    "    elif eleccion == 1:\n",
    "        puerta = eleccion\n",
    "        print(f'Cruzas la puerta {eleccion}.\\n')\n",
    "        break\n",
    "    # Opción para la puerta de la izquierda\n",
    "    elif eleccion == 2:\n",
    "        puerta = eleccion\n",
    "        print(f'Cruzas la puerta {eleccion}.\\n')\n",
    "        if amuleto == True:\n",
    "            break\n",
    "\n",
    "# El bucle while sólo contempla salir con las opciones de cruzar las puertas, según la que cruces...\n",
    "if puerta == 1:\n",
    "    print('Has perdido')\n",
    "else:\n",
    "    print('Has ganado')"
   ]
  }
 ],
 "metadata": {
  "kernelspec": {
   "display_name": "Python 3",
   "language": "python",
   "name": "python3"
  },
  "language_info": {
   "codemirror_mode": {
    "name": "ipython",
    "version": 3
   },
   "file_extension": ".py",
   "mimetype": "text/x-python",
   "name": "python",
   "nbconvert_exporter": "python",
   "pygments_lexer": "ipython3",
   "version": "3.13.2"
  }
 },
 "nbformat": 4,
 "nbformat_minor": 2
}
