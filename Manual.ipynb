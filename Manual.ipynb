{
 "cells": [
  {
   "cell_type": "code",
   "execution_count": null,
   "metadata": {},
   "outputs": [],
   "source": [
    "\n",
    "\n",
    "# Función para mostrar instrucciones\n",
    "def mostrar_instrucciones():\n",
    "    print(\"\"\" \n",
    "    - Cada jugador tiene un tablero de 10x10.\n",
    "    - Los barcos se colocan aleatoriamente en el tablero.\n",
    "    - Los jugadores se turnan para disparar a una coordenada (fila, columna).\n",
    "    - El impacto se marcará en el tablero:\n",
    "        Impacto en barco -> X\n",
    "        Impacto en Agua -> ~\n",
    "        Barco hundido -> O\n",
    "    - El objetivo es hundir todos los barcos del rival.\n",
    "    - En este Caso el rival será CPU\n",
    "    - ¡Buena suerte!\n",
    "    \"\"\")\n",
    "\n",
    "# Función para corregir mayúsculas y minúsculas del nombre\n",
    "def corregir_nombre(nombre):\n",
    "    return nombre.strip().lower()  # Elimina espacios y convierte a minúsculas\n",
    "\n",
    "#funcion de menu principal, se le ponen las condiciones para que siempre sea un nº entre 1 y 3\n",
    "def menu_principal(menu):\n",
    "    menu = 'Selecciona algo:\\n\\t 1. Empezar a jugar\\n\\t 2. Créditos\\n\\t 3. Salir'\n",
    "    eleccion = input(menu_principal)\n",
    "    while eleccion.isnumeric() != True and eleccion < 4 and eleccion > 0:\n",
    "        eleccion = input(menu_principal)\n",
    "    return eleccion\n",
    "\n",
    "#funcion de inicio, pide el nombre del jugador\n",
    "def inicio():\n",
    "    introduccion= \"Bienvenido a hunde la flota equipo 5\"\n",
    "    print(introduccion)\n",
    "\n",
    "    #Coger el nombre del jugador\n",
    "    nombre_jugador=input(\"Para empezar a jugar debes decir tu nombre\")\n",
    "    print(\"Bienvenido\", nombre_jugador.capitalize()) #Imrpimimos con la primera letra en mayuscula\n",
    "    print(f\"{nombre_jugador}, Estas son las reglas del juego:\\n{mostrar_instrucciones()}\")\n",
    "   \n",
    "    return nombre_jugador\n",
    "\n",
    "\n",
    "\n",
    "\n",
    "\n",
    "\n",
    "\n",
    "\n",
    "\n"
   ]
  },
  {
   "cell_type": "code",
   "execution_count": 1,
   "metadata": {},
   "outputs": [
    {
     "ename": "NameError",
     "evalue": "name 'menu' is not defined",
     "output_type": "error",
     "traceback": [
      "\u001b[1;31m---------------------------------------------------------------------------\u001b[0m",
      "\u001b[1;31mNameError\u001b[0m                                 Traceback (most recent call last)",
      "Cell \u001b[1;32mIn[1], line 1\u001b[0m\n\u001b[1;32m----> 1\u001b[0m \u001b[43mmenu\u001b[49m\n",
      "\u001b[1;31mNameError\u001b[0m: name 'menu' is not defined"
     ]
    }
   ],
   "source": [
    "menu"
   ]
  },
  {
   "cell_type": "code",
   "execution_count": null,
   "metadata": {},
   "outputs": [
    {
     "ename": "SyntaxError",
     "evalue": "invalid syntax. Maybe you meant '==' or ':=' instead of '='? (2581492272.py, line 7)",
     "output_type": "error",
     "traceback": [
      "\u001b[1;36m  Cell \u001b[1;32mIn[19], line 7\u001b[1;36m\u001b[0m\n\u001b[1;33m    if eleccion = 1:\u001b[0m\n\u001b[1;37m       ^\u001b[0m\n\u001b[1;31mSyntaxError\u001b[0m\u001b[1;31m:\u001b[0m invalid syntax. Maybe you meant '==' or ':=' instead of '='?\n"
     ]
    }
   ],
   "source": [
    "\n",
    "menu = 'Selecciona algo:\\n\\t 1. Empezar a jugar\\n\\t 2. Créditos\\n\\t 3. Salir'\n",
    "\n",
    "eleccion = input(menu)\n",
    "\n",
    "while eleccion.isnumeric() != True and eleccion < 4 and eleccion > 0:\n",
    "    eleccion = input(menu)\n",
    "if eleccion = 1:\n",
    "    #inicio()\n",
    "    #colocar_barcos()\n",
    "    #turno_batalla()"
   ]
  },
  {
   "cell_type": "code",
   "execution_count": null,
   "metadata": {},
   "outputs": [],
   "source": [
    "#titulo del juego\n",
    "introduccion= \"\\nBiennvenid@ a Hundir la Flota Team 5\"\n",
    "menu = 'Selecciona algo:\\n\\t 1. Empezar a jugar\\n\\t 2. Créditos\\n\\t 3. Salir'\n",
    "eleccion = input(menu)\n",
    "\n",
    "#siempre sea un numero lo que esta pidiendo en menu\n",
    "while eleccion.isnumeric() != True and eleccion < 4 and eleccion > 0:\n",
    "    eleccion = input(menu)\n",
    "if eleccion == 1:\n",
    " inicio"
   ]
  },
  {
   "cell_type": "markdown",
   "metadata": {},
   "source": [
    "main.py -> menu\n",
    "clase_jugador.py -> variables\n",
    "colocar_barcos.py\n",
    "turno_batalla.py"
   ]
  }
 ],
 "metadata": {
  "kernelspec": {
   "display_name": "Python 3",
   "language": "python",
   "name": "python3"
  },
  "language_info": {
   "codemirror_mode": {
    "name": "ipython",
    "version": 3
   },
   "file_extension": ".py",
   "mimetype": "text/x-python",
   "name": "python",
   "nbconvert_exporter": "python",
   "pygments_lexer": "ipython3",
   "version": "3.13.2"
  }
 },
 "nbformat": 4,
 "nbformat_minor": 2
}
