{
 "cells": [
  {
   "cell_type": "code",
   "execution_count": 78,
   "metadata": {},
   "outputs": [],
   "source": [
    "import numpy as np"
   ]
  },
  {
   "cell_type": "code",
   "execution_count": 104,
   "metadata": {},
   "outputs": [],
   "source": [
    "class Tablero:\n",
    "    def __init__(self, tipo = 'jugador', ndim = 10):\n",
    "        tablero = np.full((2,ndim,ndim),'·')\n",
    "        self.flota, self.radar = tablero[0], tablero[1]\n",
    "        self.disparos = 0\n",
    "        self.tipo = tipo\n",
    "\n",
    "    def mostrar_tablero(self):\n",
    "        ndim = len(self.flota)\n",
    "        letras = ['A','B','C','D','E','F','G','H','I','J']\n",
    "        for n in range(2):\n",
    "            print(end = '  ')\n",
    "            [print(n, end = ' ') for n in range(1,ndim + 1)]\n",
    "            print(end = '   ')\n",
    "        print()\n",
    "        for fila1, fila2, letra in zip(self.flota, self.radar, letras):\n",
    "            print(letra, end = ' ')\n",
    "            for posicion1 in fila1:\n",
    "                print(posicion1, end = ' ')\n",
    "            print(' | ',letra, end = ' ')\n",
    "            for posicion2 in fila2:\n",
    "                print(posicion2, end = ' ')\n",
    "            print()\n",
    "\n",
    "    def check_barcos(self):\n",
    "        if np.any(self.flota == 'O'):\n",
    "            return True\n",
    "        else:\n",
    "            return False\n",
    "    \n",
    "    def activar_radar(self, flota_enemigo):\n",
    "        self.radar = flota_enemigo\n",
    "        return self.radar"
   ]
  },
  {
   "cell_type": "code",
   "execution_count": 105,
   "metadata": {},
   "outputs": [],
   "source": [
    "victor = Tablero()\n",
    "cpu = Tablero()"
   ]
  },
  {
   "cell_type": "code",
   "execution_count": 110,
   "metadata": {},
   "outputs": [
    {
     "name": "stdout",
     "output_type": "stream",
     "text": [
      "  1 2 3 4 5 6 7 8 9 10      1 2 3 4 5 6 7 8 9 10    \n",
      "A · · · · · · · · · ·  |  A · · · · · · · · · · \n",
      "B · · · · O · · · · ·  |  B · · · · · · · · · · \n",
      "C · · · · O · · · · ·  |  C · · · · · · · · · · \n",
      "D · · · · O · · · · ·  |  D · · · · · · · · · · \n",
      "E · · · · · · · · · ·  |  E · · · · · · · · · · \n",
      "F · · · · · · · · · ·  |  F · · · · · · · · · · \n",
      "G · · · · · · · · · ·  |  G · · · · · · · · · · \n",
      "H · · · · · · · · · ·  |  H · · · · · · · · · · \n",
      "I · · · · · · · · · ·  |  I · · · · · · · · · · \n",
      "J · · · · · · · · · ·  |  J · · · · · · · · · · \n"
     ]
    }
   ],
   "source": [
    "barcos = [(1,4),(2,4),(3,4)]\n",
    "\n",
    "for barco in barcos:\n",
    "    cpu.flota[barco] = 'O'\n",
    "\n",
    "cpu.mostrar_tablero()"
   ]
  },
  {
   "cell_type": "code",
   "execution_count": 108,
   "metadata": {},
   "outputs": [
    {
     "name": "stdout",
     "output_type": "stream",
     "text": [
      "  1 2 3 4 5 6 7 8 9 10      1 2 3 4 5 6 7 8 9 10    \n",
      "A · · · · · · · · · ·  |  A · · · · · · · · · · \n",
      "B · · · · · · · · · ·  |  B · · · · O · · · · · \n",
      "C · · · · · · · · · ·  |  C · · · · O · · · · · \n",
      "D · · · · · · · · · ·  |  D · · · · O · · · · · \n",
      "E · · · · · · · · · ·  |  E · · · · · · · · · · \n",
      "F · · · · · · · · · ·  |  F · · · · · · · · · · \n",
      "G · · · · · · · · · ·  |  G · · · · · · · · · · \n",
      "H · · · · · · · · · ·  |  H · · · · · · · · · · \n",
      "I · · · · · · · · · ·  |  I · · · · · · · · · · \n",
      "J · · · · · · · · · ·  |  J · · · · · · · · · · \n"
     ]
    }
   ],
   "source": [
    "victor.activar_radar(cpu.flota)\n",
    "victor.mostrar_tablero()"
   ]
  }
 ],
 "metadata": {
  "kernelspec": {
   "display_name": "Python 3",
   "language": "python",
   "name": "python3"
  },
  "language_info": {
   "codemirror_mode": {
    "name": "ipython",
    "version": 3
   },
   "file_extension": ".py",
   "mimetype": "text/x-python",
   "name": "python",
   "nbconvert_exporter": "python",
   "pygments_lexer": "ipython3",
   "version": "3.11.9"
  }
 },
 "nbformat": 4,
 "nbformat_minor": 2
}
